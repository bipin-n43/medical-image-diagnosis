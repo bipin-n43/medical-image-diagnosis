{
 "cells": [
  {
   "metadata": {},
   "cell_type": "markdown",
   "source": "# Step 1: Import Libraries and Set Up Environment",
   "id": "27cda33b01c721be"
  },
  {
   "metadata": {
    "ExecuteTime": {
     "end_time": "2024-12-13T06:04:36.928318Z",
     "start_time": "2024-12-13T06:04:36.907716Z"
    }
   },
   "cell_type": "code",
   "source": [
    "# Step 1: Import Libraries and Set Up Environment\n",
    "import numpy as np\n",
    "import pandas as pd\n",
    "import tensorflow as tf\n",
    "from tensorflow import keras\n",
    "import matplotlib.pyplot as plt\n",
    "import cv2\n",
    "import seaborn as sns\n",
    "from sklearn.model_selection import train_test_split\n",
    "import os\n",
    "import warnings"
   ],
   "id": "bc71f4b5d88d0d95",
   "outputs": [],
   "execution_count": 43
  },
  {
   "metadata": {},
   "cell_type": "markdown",
   "source": "# Suppress warnings and set up visualization styles",
   "id": "4d575f81495b7634"
  },
  {
   "metadata": {
    "ExecuteTime": {
     "end_time": "2024-12-13T06:04:37.003588Z",
     "start_time": "2024-12-13T06:04:36.980451Z"
    }
   },
   "cell_type": "code",
   "source": [
    "warnings.filterwarnings('ignore')\n",
    "sns.set_style('whitegrid')\n",
    "plt.rc('figure', autolayout=True)\n",
    "plt.rc('axes', labelweight='bold', labelsize='large', titleweight='bold', titlesize=18, titlepad=10)\n",
    "plt.rc('image', cmap='viridis')\n"
   ],
   "id": "cc5a9e9265df9fa",
   "outputs": [],
   "execution_count": 44
  },
  {
   "metadata": {
    "ExecuteTime": {
     "end_time": "2024-12-13T06:04:37.022123Z",
     "start_time": "2024-12-13T06:04:37.003588Z"
    }
   },
   "cell_type": "code",
   "source": "print(f\"TensorFlow version: {tf.__version__}\")",
   "id": "bb17163aef146c13",
   "outputs": [
    {
     "name": "stdout",
     "output_type": "stream",
     "text": [
      "TensorFlow version: 2.18.0\n"
     ]
    }
   ],
   "execution_count": 45
  },
  {
   "metadata": {},
   "cell_type": "markdown",
   "source": "# Step 2: Define Constants and Load Data Paths",
   "id": "e19d3fb5aba7d1db"
  },
  {
   "metadata": {
    "ExecuteTime": {
     "end_time": "2024-12-13T06:04:37.030859Z",
     "start_time": "2024-12-13T06:04:37.022123Z"
    }
   },
   "cell_type": "code",
   "source": [
    "# Define Constants and Load Data Paths\n",
    "DATA_FOLDER = r\"../dataset\"  # Replace with your data folder path\n",
    "TRAIN_FILE = \"train-00000-of-00001-c08a401c53fe5312.parquet\"\n",
    "TEST_FILE = \"test-00000-of-00001-44110b9df98c5585.parquet\"\n",
    "\n",
    "DIAGNOSIS_LABELS = {\n",
    "    0: \"Healthy\",\n",
    "    1: \"Mild Cognitive Impairment\",\n",
    "    2: \"Alzheimer's Disease\",\n",
    "    3: \"Other Neurological Condition\"\n",
    "}"
   ],
   "id": "61160b6f59142a3a",
   "outputs": [],
   "execution_count": 46
  },
  {
   "metadata": {
    "ExecuteTime": {
     "end_time": "2024-12-13T06:04:37.051715Z",
     "start_time": "2024-12-13T06:04:37.044865Z"
    }
   },
   "cell_type": "code",
   "source": [
    "# Construct file paths for train and test datasets\n",
    "train_file_path = os.path.join(DATA_FOLDER, TRAIN_FILE).replace(\"\\\\\", \"/\")\n",
    "test_file_path = os.path.join(DATA_FOLDER, TEST_FILE).replace(\"\\\\\", \"/\")"
   ],
   "id": "6fa6a93b385a0fca",
   "outputs": [],
   "execution_count": 47
  },
  {
   "metadata": {
    "ExecuteTime": {
     "end_time": "2024-12-13T06:04:37.400851Z",
     "start_time": "2024-12-13T06:04:37.064890Z"
    }
   },
   "cell_type": "code",
   "source": [
    "# Load the training and testing datasets (use small samples for demonstration)\n",
    "train_data = pd.read_parquet(train_file_path).head(100)  # Load first 100 rows for training\n",
    "test_data = pd.read_parquet(test_file_path).head(50)     # Load first 50 rows for testing\n",
    "\n",
    "print(\"Training and testing data loaded successfully.\")"
   ],
   "id": "2b8c50d07ee614b0",
   "outputs": [
    {
     "name": "stdout",
     "output_type": "stream",
     "text": [
      "Training and testing data loaded successfully.\n"
     ]
    }
   ],
   "execution_count": 48
  },
  {
   "metadata": {},
   "cell_type": "markdown",
   "source": "# Step 3: Define Image Decoding Function\n",
   "id": "2af9bbc0076c5bbe"
  },
  {
   "metadata": {
    "ExecuteTime": {
     "end_time": "2024-12-13T06:04:37.419142Z",
     "start_time": "2024-12-13T06:04:37.400851Z"
    }
   },
   "cell_type": "code",
   "source": [
    "def decode_image_from_bytes(image_dict):\n",
    "    \"\"\"\n",
    "    Decodes image bytes into a NumPy array.\n",
    "    \"\"\"\n",
    "    if isinstance(image_dict, dict) and 'bytes' in image_dict:\n",
    "        byte_string = image_dict['bytes']\n",
    "        nparr = np.frombuffer(byte_string, np.uint8)\n",
    "        img = cv2.imdecode(nparr, cv2.IMREAD_COLOR)  # Decode as a color image (BGR format)\n",
    "        return img\n",
    "    return None\n",
    "\n",
    "print(\"Image decoding function defined.\")"
   ],
   "id": "5b2d7b3226abd07",
   "outputs": [
    {
     "name": "stdout",
     "output_type": "stream",
     "text": [
      "Image decoding function defined.\n"
     ]
    }
   ],
   "execution_count": 49
  },
  {
   "metadata": {},
   "cell_type": "markdown",
   "source": "# Step 4: Apply Decoding to Train and Test DataFrames",
   "id": "10cb73cecc9ce8da"
  },
  {
   "metadata": {
    "ExecuteTime": {
     "end_time": "2024-12-13T06:04:37.513006Z",
     "start_time": "2024-12-13T06:04:37.419142Z"
    }
   },
   "cell_type": "code",
   "source": [
    "train_data['decoded_scan'] = train_data['image'].apply(decode_image_from_bytes)\n",
    "test_data['decoded_scan'] = test_data['image'].apply(decode_image_from_bytes)\n",
    "\n",
    "print(\"Images decoded successfully.\")"
   ],
   "id": "b7e81bf52e378eca",
   "outputs": [
    {
     "name": "stdout",
     "output_type": "stream",
     "text": [
      "Images decoded successfully.\n"
     ]
    }
   ],
   "execution_count": 50
  },
  {
   "metadata": {},
   "cell_type": "markdown",
   "source": "# Step 5: Display Sample Data and Label Distribution",
   "id": "84306160a2954353"
  },
  {
   "metadata": {
    "ExecuteTime": {
     "end_time": "2024-12-13T06:04:43.905106Z",
     "start_time": "2024-12-13T06:04:37.513006Z"
    }
   },
   "cell_type": "code",
   "source": [
    "train_data.head()\n",
    "\n"
   ],
   "id": "ccda3ef33998c6c3",
   "outputs": [
    {
     "data": {
      "text/plain": [
       "                                               image  label  \\\n",
       "0  {'bytes': b'\\xff\\xd8\\xff\\xe0\\x00\\x10JFIF\\x00\\x...      2   \n",
       "1  {'bytes': b'\\xff\\xd8\\xff\\xe0\\x00\\x10JFIF\\x00\\x...      0   \n",
       "2  {'bytes': b'\\xff\\xd8\\xff\\xe0\\x00\\x10JFIF\\x00\\x...      3   \n",
       "3  {'bytes': b'\\xff\\xd8\\xff\\xe0\\x00\\x10JFIF\\x00\\x...      3   \n",
       "4  {'bytes': b'\\xff\\xd8\\xff\\xe0\\x00\\x10JFIF\\x00\\x...      2   \n",
       "\n",
       "                                        decoded_scan  \n",
       "0  [[[0, 0, 0], [0, 0, 0], [0, 0, 0], [0, 0, 0], ...  \n",
       "1  [[[0, 0, 0], [0, 0, 0], [0, 0, 0], [0, 0, 0], ...  \n",
       "2  [[[0, 0, 0], [0, 0, 0], [0, 0, 0], [0, 0, 0], ...  \n",
       "3  [[[0, 0, 0], [0, 0, 0], [0, 0, 0], [0, 0, 0], ...  \n",
       "4  [[[0, 0, 0], [0, 0, 0], [0, 0, 0], [0, 0, 0], ...  "
      ],
      "text/html": [
       "<div>\n",
       "<style scoped>\n",
       "    .dataframe tbody tr th:only-of-type {\n",
       "        vertical-align: middle;\n",
       "    }\n",
       "\n",
       "    .dataframe tbody tr th {\n",
       "        vertical-align: top;\n",
       "    }\n",
       "\n",
       "    .dataframe thead th {\n",
       "        text-align: right;\n",
       "    }\n",
       "</style>\n",
       "<table border=\"1\" class=\"dataframe\">\n",
       "  <thead>\n",
       "    <tr style=\"text-align: right;\">\n",
       "      <th></th>\n",
       "      <th>image</th>\n",
       "      <th>label</th>\n",
       "      <th>decoded_scan</th>\n",
       "    </tr>\n",
       "  </thead>\n",
       "  <tbody>\n",
       "    <tr>\n",
       "      <th>0</th>\n",
       "      <td>{'bytes': b'\\xff\\xd8\\xff\\xe0\\x00\\x10JFIF\\x00\\x...</td>\n",
       "      <td>2</td>\n",
       "      <td>[[[0, 0, 0], [0, 0, 0], [0, 0, 0], [0, 0, 0], ...</td>\n",
       "    </tr>\n",
       "    <tr>\n",
       "      <th>1</th>\n",
       "      <td>{'bytes': b'\\xff\\xd8\\xff\\xe0\\x00\\x10JFIF\\x00\\x...</td>\n",
       "      <td>0</td>\n",
       "      <td>[[[0, 0, 0], [0, 0, 0], [0, 0, 0], [0, 0, 0], ...</td>\n",
       "    </tr>\n",
       "    <tr>\n",
       "      <th>2</th>\n",
       "      <td>{'bytes': b'\\xff\\xd8\\xff\\xe0\\x00\\x10JFIF\\x00\\x...</td>\n",
       "      <td>3</td>\n",
       "      <td>[[[0, 0, 0], [0, 0, 0], [0, 0, 0], [0, 0, 0], ...</td>\n",
       "    </tr>\n",
       "    <tr>\n",
       "      <th>3</th>\n",
       "      <td>{'bytes': b'\\xff\\xd8\\xff\\xe0\\x00\\x10JFIF\\x00\\x...</td>\n",
       "      <td>3</td>\n",
       "      <td>[[[0, 0, 0], [0, 0, 0], [0, 0, 0], [0, 0, 0], ...</td>\n",
       "    </tr>\n",
       "    <tr>\n",
       "      <th>4</th>\n",
       "      <td>{'bytes': b'\\xff\\xd8\\xff\\xe0\\x00\\x10JFIF\\x00\\x...</td>\n",
       "      <td>2</td>\n",
       "      <td>[[[0, 0, 0], [0, 0, 0], [0, 0, 0], [0, 0, 0], ...</td>\n",
       "    </tr>\n",
       "  </tbody>\n",
       "</table>\n",
       "</div>"
      ]
     },
     "execution_count": 51,
     "metadata": {},
     "output_type": "execute_result"
    }
   ],
   "execution_count": 51
  },
  {
   "metadata": {
    "ExecuteTime": {
     "end_time": "2024-12-13T06:04:48.899692Z",
     "start_time": "2024-12-13T06:04:43.905106Z"
    }
   },
   "cell_type": "code",
   "source": "test_data.head()",
   "id": "5238184928275c9a",
   "outputs": [
    {
     "data": {
      "text/plain": [
       "                                               image  label  \\\n",
       "0  {'bytes': b'\\xff\\xd8\\xff\\xe0\\x00\\x10JFIF\\x00\\x...      3   \n",
       "1  {'bytes': b'\\xff\\xd8\\xff\\xe0\\x00\\x10JFIF\\x00\\x...      0   \n",
       "2  {'bytes': b'\\xff\\xd8\\xff\\xe0\\x00\\x10JFIF\\x00\\x...      2   \n",
       "3  {'bytes': b'\\xff\\xd8\\xff\\xe0\\x00\\x10JFIF\\x00\\x...      3   \n",
       "4  {'bytes': b'\\xff\\xd8\\xff\\xe0\\x00\\x10JFIF\\x00\\x...      0   \n",
       "\n",
       "                                        decoded_scan  \n",
       "0  [[[0, 0, 0], [0, 0, 0], [0, 0, 0], [0, 0, 0], ...  \n",
       "1  [[[0, 0, 0], [0, 0, 0], [0, 0, 0], [0, 0, 0], ...  \n",
       "2  [[[0, 0, 0], [0, 0, 0], [0, 0, 0], [0, 0, 0], ...  \n",
       "3  [[[0, 0, 0], [0, 0, 0], [0, 0, 0], [0, 0, 0], ...  \n",
       "4  [[[0, 0, 0], [0, 0, 0], [0, 0, 0], [0, 0, 0], ...  "
      ],
      "text/html": [
       "<div>\n",
       "<style scoped>\n",
       "    .dataframe tbody tr th:only-of-type {\n",
       "        vertical-align: middle;\n",
       "    }\n",
       "\n",
       "    .dataframe tbody tr th {\n",
       "        vertical-align: top;\n",
       "    }\n",
       "\n",
       "    .dataframe thead th {\n",
       "        text-align: right;\n",
       "    }\n",
       "</style>\n",
       "<table border=\"1\" class=\"dataframe\">\n",
       "  <thead>\n",
       "    <tr style=\"text-align: right;\">\n",
       "      <th></th>\n",
       "      <th>image</th>\n",
       "      <th>label</th>\n",
       "      <th>decoded_scan</th>\n",
       "    </tr>\n",
       "  </thead>\n",
       "  <tbody>\n",
       "    <tr>\n",
       "      <th>0</th>\n",
       "      <td>{'bytes': b'\\xff\\xd8\\xff\\xe0\\x00\\x10JFIF\\x00\\x...</td>\n",
       "      <td>3</td>\n",
       "      <td>[[[0, 0, 0], [0, 0, 0], [0, 0, 0], [0, 0, 0], ...</td>\n",
       "    </tr>\n",
       "    <tr>\n",
       "      <th>1</th>\n",
       "      <td>{'bytes': b'\\xff\\xd8\\xff\\xe0\\x00\\x10JFIF\\x00\\x...</td>\n",
       "      <td>0</td>\n",
       "      <td>[[[0, 0, 0], [0, 0, 0], [0, 0, 0], [0, 0, 0], ...</td>\n",
       "    </tr>\n",
       "    <tr>\n",
       "      <th>2</th>\n",
       "      <td>{'bytes': b'\\xff\\xd8\\xff\\xe0\\x00\\x10JFIF\\x00\\x...</td>\n",
       "      <td>2</td>\n",
       "      <td>[[[0, 0, 0], [0, 0, 0], [0, 0, 0], [0, 0, 0], ...</td>\n",
       "    </tr>\n",
       "    <tr>\n",
       "      <th>3</th>\n",
       "      <td>{'bytes': b'\\xff\\xd8\\xff\\xe0\\x00\\x10JFIF\\x00\\x...</td>\n",
       "      <td>3</td>\n",
       "      <td>[[[0, 0, 0], [0, 0, 0], [0, 0, 0], [0, 0, 0], ...</td>\n",
       "    </tr>\n",
       "    <tr>\n",
       "      <th>4</th>\n",
       "      <td>{'bytes': b'\\xff\\xd8\\xff\\xe0\\x00\\x10JFIF\\x00\\x...</td>\n",
       "      <td>0</td>\n",
       "      <td>[[[0, 0, 0], [0, 0, 0], [0, 0, 0], [0, 0, 0], ...</td>\n",
       "    </tr>\n",
       "  </tbody>\n",
       "</table>\n",
       "</div>"
      ]
     },
     "execution_count": 52,
     "metadata": {},
     "output_type": "execute_result"
    }
   ],
   "execution_count": 52
  },
  {
   "metadata": {},
   "cell_type": "markdown",
   "source": "### 5.1  Plot label distribution in the training dataset",
   "id": "1f2745fc3d72ee66"
  },
  {
   "metadata": {
    "ExecuteTime": {
     "end_time": "2024-12-13T06:04:49.401993Z",
     "start_time": "2024-12-13T06:04:48.899692Z"
    }
   },
   "cell_type": "code",
   "source": [
    "label_distribution = train_data['label'].map(DIAGNOSIS_LABELS ).value_counts()\n",
    "plt.figure(figsize=(8, 6))\n",
    "sns.barplot(x=label_distribution.index, y=label_distribution.values, palette=\"viridis\")\n",
    "plt.title(\"Distribution of Diagnoses in Training Data\")\n",
    "plt.ylabel(\"Count\")\n",
    "plt.xlabel(\"Diagnosis\")\n",
    "plt.xticks(rotation=45)\n",
    "plt.show()\n"
   ],
   "id": "d7fbb2d57a93cb82",
   "outputs": [
    {
     "data": {
      "text/plain": [
       "<Figure size 800x600 with 1 Axes>"
      ],
      "image/png": "[encoded data removed]"
     },
     "metadata": {},
     "output_type": "display_data"
    }
   ],
   "execution_count": 53
  },
  {
   "metadata": {},
   "cell_type": "markdown",
   "source": "# Step 6: Preprocess Images for Model Input (Resizing and Normalization)\n",
   "id": "84b7b9a66e8196a0"
  },
  {
   "metadata": {
    "ExecuteTime": {
     "end_time": "2024-12-13T06:04:49.501806Z",
     "start_time": "2024-12-13T06:04:49.401993Z"
    }
   },
   "cell_type": "code",
   "source": [
    "\n",
    "def preprocess_images(image_array):\n",
    "    \"\"\"\n",
    "    Resize images to (128x128) and normalize pixel values.\n",
    "    \"\"\"\n",
    "    resized_images = []\n",
    "    for img in image_array:\n",
    "        if img is not None:\n",
    "            resized_img = cv2.resize(img, (128, 128)) / 255.0  # Normalize pixel values to [0,1]\n",
    "            resized_images.append(resized_img)\n",
    "        else:\n",
    "            resized_images.append(np.zeros((128, 128, 3)))  # Placeholder for missing images\n",
    "    return np.array(resized_images)\n",
    "\n",
    "X_train_images = preprocess_images(train_data['decoded_scan'])\n",
    "X_test_images = preprocess_images(test_data['decoded_scan'])\n",
    "\n",
    "y_train_labels = train_data['label'].values\n",
    "y_test_labels = test_data['label'].values\n",
    "\n",
    "print(f\"Training images shape: {X_train_images.shape}\")\n",
    "print(f\"Testing images shape: {X_test_images.shape}\")"
   ],
   "id": "c8aa7b5b473428c",
   "outputs": [
    {
     "name": "stdout",
     "output_type": "stream",
     "text": [
      "Training images shape: (100, 128, 128, 3)\n",
      "Testing images shape: (50, 128, 128, 3)\n"
     ]
    }
   ],
   "execution_count": 54
  },
  {
   "metadata": {},
   "cell_type": "markdown",
   "source": "# Step 7: Split Training Data into Train/Validation Sets",
   "id": "6878c9a3236a3bef"
  },
  {
   "metadata": {
    "ExecuteTime": {
     "end_time": "2024-12-13T06:04:49.553163Z",
     "start_time": "2024-12-13T06:04:49.501806Z"
    }
   },
   "cell_type": "code",
   "source": [
    "X_train, X_val, y_train, y_val = train_test_split(X_train_images, y_train_labels, test_size=0.2, random_state=42)\n",
    "\n",
    "print(f\"Training set size: {X_train.shape[0]}\")\n",
    "print(f\"Validation set size: {X_val.shape[0]}\")"
   ],
   "id": "63734d5d151e2ea6",
   "outputs": [
    {
     "name": "stdout",
     "output_type": "stream",
     "text": [
      "Training set size: 80\n",
      "Validation set size: 20\n"
     ]
    }
   ],
   "execution_count": 55
  },
  {
   "metadata": {},
   "cell_type": "markdown",
   "source": "# Step 8: Build the CNN Model for Classification",
   "id": "cbfb598e82e99640"
  },
  {
   "metadata": {
    "ExecuteTime": {
     "end_time": "2024-12-13T06:04:49.779733Z",
     "start_time": "2024-12-13T06:04:49.553163Z"
    }
   },
   "cell_type": "code",
   "source": [
    "model = keras.Sequential([\n",
    "    keras.layers.Conv2D(32, (3, 3), activation='relu', input_shape=(128, 128, 3)),\n",
    "    keras.layers.MaxPooling2D((2, 2)),\n",
    "    keras.layers.Conv2D(64, (3, 3), activation='relu'),\n",
    "    keras.layers.MaxPooling2D((2, 2)),\n",
    "    keras.layers.Flatten(),\n",
    "    keras.layers.Dense(64, activation='relu'),\n",
    "    keras.layers.Dense(len(DIAGNOSIS_LABELS), activation='softmax')  # Output layer with softmax activation\n",
    "])\n",
    "\n",
    "model.compile(optimizer='adam',\n",
    "              loss='sparse_categorical_crossentropy',\n",
    "              metrics=['accuracy'])\n",
    "\n",
    "model.summary()"
   ],
   "id": "b0974c5b1226ad1",
   "outputs": [
    {
     "data": {
      "text/plain": [
       "\u001B[1mModel: \"sequential_2\"\u001B[0m\n"
      ],
      "text/html": [
       "<pre style=\"white-space:pre;overflow-x:auto;line-height:normal;font-family:Menlo,'DejaVu Sans Mono',consolas,'Courier New',monospace\"><span style=\"font-weight: bold\">Model: \"sequential_2\"</span>\n",
       "</pre>\n"
      ]
     },
     "metadata": {},
     "output_type": "display_data"
    },
    {
     "data": {
      "text/plain": [
       "┏━━━━━━━━━━━━━━━━━━━━━━━━━━━━━━━━━┳━━━━━━━━━━━━━━━━━━━━━━━━┳━━━━━━━━━━━━━━━┓\n",
       "┃\u001B[1m \u001B[0m\u001B[1mLayer (type)                   \u001B[0m\u001B[1m \u001B[0m┃\u001B[1m \u001B[0m\u001B[1mOutput Shape          \u001B[0m\u001B[1m \u001B[0m┃\u001B[1m \u001B[0m\u001B[1m      Param #\u001B[0m\u001B[1m \u001B[0m┃\n",
       "┡━━━━━━━━━━━━━━━━━━━━━━━━━━━━━━━━━╇━━━━━━━━━━━━━━━━━━━━━━━━╇━━━━━━━━━━━━━━━┩\n",
       "│ conv2d_4 (\u001B[38;5;33mConv2D\u001B[0m)               │ (\u001B[38;5;45mNone\u001B[0m, \u001B[38;5;34m126\u001B[0m, \u001B[38;5;34m126\u001B[0m, \u001B[38;5;34m32\u001B[0m)   │           \u001B[38;5;34m896\u001B[0m │\n",
       "├─────────────────────────────────┼────────────────────────┼───────────────┤\n",
       "│ max_pooling2d_4 (\u001B[38;5;33mMaxPooling2D\u001B[0m)  │ (\u001B[38;5;45mNone\u001B[0m, \u001B[38;5;34m63\u001B[0m, \u001B[38;5;34m63\u001B[0m, \u001B[38;5;34m32\u001B[0m)     │             \u001B[38;5;34m0\u001B[0m │\n",
       "├─────────────────────────────────┼────────────────────────┼───────────────┤\n",
       "│ conv2d_5 (\u001B[38;5;33mConv2D\u001B[0m)               │ (\u001B[38;5;45mNone\u001B[0m, \u001B[38;5;34m61\u001B[0m, \u001B[38;5;34m61\u001B[0m, \u001B[38;5;34m64\u001B[0m)     │        \u001B[38;5;34m18,496\u001B[0m │\n",
       "├─────────────────────────────────┼────────────────────────┼───────────────┤\n",
       "│ max_pooling2d_5 (\u001B[38;5;33mMaxPooling2D\u001B[0m)  │ (\u001B[38;5;45mNone\u001B[0m, \u001B[38;5;34m30\u001B[0m, \u001B[38;5;34m30\u001B[0m, \u001B[38;5;34m64\u001B[0m)     │             \u001B[38;5;34m0\u001B[0m │\n",
       "├─────────────────────────────────┼────────────────────────┼───────────────┤\n",
       "│ flatten_2 (\u001B[38;5;33mFlatten\u001B[0m)             │ (\u001B[38;5;45mNone\u001B[0m, \u001B[38;5;34m57600\u001B[0m)          │             \u001B[38;5;34m0\u001B[0m │\n",
       "├─────────────────────────────────┼────────────────────────┼───────────────┤\n",
       "│ dense_4 (\u001B[38;5;33mDense\u001B[0m)                 │ (\u001B[38;5;45mNone\u001B[0m, \u001B[38;5;34m64\u001B[0m)             │     \u001B[38;5;34m3,686,464\u001B[0m │\n",
       "├─────────────────────────────────┼────────────────────────┼───────────────┤\n",
       "│ dense_5 (\u001B[38;5;33mDense\u001B[0m)                 │ (\u001B[38;5;45mNone\u001B[0m, \u001B[38;5;34m4\u001B[0m)              │           \u001B[38;5;34m260\u001B[0m │\n",
       "└─────────────────────────────────┴────────────────────────┴───────────────┘\n"
      ],
      "text/html": [
       "<pre style=\"white-space:pre;overflow-x:auto;line-height:normal;font-family:Menlo,'DejaVu Sans Mono',consolas,'Courier New',monospace\">┏━━━━━━━━━━━━━━━━━━━━━━━━━━━━━━━━━┳━━━━━━━━━━━━━━━━━━━━━━━━┳━━━━━━━━━━━━━━━┓\n",
       "┃<span style=\"font-weight: bold\"> Layer (type)                    </span>┃<span style=\"font-weight: bold\"> Output Shape           </span>┃<span style=\"font-weight: bold\">       Param # </span>┃\n",
       "┡━━━━━━━━━━━━━━━━━━━━━━━━━━━━━━━━━╇━━━━━━━━━━━━━━━━━━━━━━━━╇━━━━━━━━━━━━━━━┩\n",
       "│ conv2d_4 (<span style=\"color: #0087ff; text-decoration-color: #0087ff\">Conv2D</span>)               │ (<span style=\"color: #00d7ff; text-decoration-color: #00d7ff\">None</span>, <span style=\"color: #00af00; text-decoration-color: #00af00\">126</span>, <span style=\"color: #00af00; text-decoration-color: #00af00\">126</span>, <span style=\"color: #00af00; text-decoration-color: #00af00\">32</span>)   │           <span style=\"color: #00af00; text-decoration-color: #00af00\">896</span> │\n",
       "├─────────────────────────────────┼────────────────────────┼───────────────┤\n",
       "│ max_pooling2d_4 (<span style=\"color: #0087ff; text-decoration-color: #0087ff\">MaxPooling2D</span>)  │ (<span style=\"color: #00d7ff; text-decoration-color: #00d7ff\">None</span>, <span style=\"color: #00af00; text-decoration-color: #00af00\">63</span>, <span style=\"color: #00af00; text-decoration-color: #00af00\">63</span>, <span style=\"color: #00af00; text-decoration-color: #00af00\">32</span>)     │             <span style=\"color: #00af00; text-decoration-color: #00af00\">0</span> │\n",
       "├─────────────────────────────────┼────────────────────────┼───────────────┤\n",
       "│ conv2d_5 (<span style=\"color: #0087ff; text-decoration-color: #0087ff\">Conv2D</span>)               │ (<span style=\"color: #00d7ff; text-decoration-color: #00d7ff\">None</span>, <span style=\"color: #00af00; text-decoration-color: #00af00\">61</span>, <span style=\"color: #00af00; text-decoration-color: #00af00\">61</span>, <span style=\"color: #00af00; text-decoration-color: #00af00\">64</span>)     │        <span style=\"color: #00af00; text-decoration-color: #00af00\">18,496</span> │\n",
       "├─────────────────────────────────┼────────────────────────┼───────────────┤\n",
       "│ max_pooling2d_5 (<span style=\"color: #0087ff; text-decoration-color: #0087ff\">MaxPooling2D</span>)  │ (<span style=\"color: #00d7ff; text-decoration-color: #00d7ff\">None</span>, <span style=\"color: #00af00; text-decoration-color: #00af00\">30</span>, <span style=\"color: #00af00; text-decoration-color: #00af00\">30</span>, <span style=\"color: #00af00; text-decoration-color: #00af00\">64</span>)     │             <span style=\"color: #00af00; text-decoration-color: #00af00\">0</span> │\n",
       "├─────────────────────────────────┼────────────────────────┼───────────────┤\n",
       "│ flatten_2 (<span style=\"color: #0087ff; text-decoration-color: #0087ff\">Flatten</span>)             │ (<span style=\"color: #00d7ff; text-decoration-color: #00d7ff\">None</span>, <span style=\"color: #00af00; text-decoration-color: #00af00\">57600</span>)          │             <span style=\"color: #00af00; text-decoration-color: #00af00\">0</span> │\n",
       "├─────────────────────────────────┼────────────────────────┼───────────────┤\n",
       "│ dense_4 (<span style=\"color: #0087ff; text-decoration-color: #0087ff\">Dense</span>)                 │ (<span style=\"color: #00d7ff; text-decoration-color: #00d7ff\">None</span>, <span style=\"color: #00af00; text-decoration-color: #00af00\">64</span>)             │     <span style=\"color: #00af00; text-decoration-color: #00af00\">3,686,464</span> │\n",
       "├─────────────────────────────────┼────────────────────────┼───────────────┤\n",
       "│ dense_5 (<span style=\"color: #0087ff; text-decoration-color: #0087ff\">Dense</span>)                 │ (<span style=\"color: #00d7ff; text-decoration-color: #00d7ff\">None</span>, <span style=\"color: #00af00; text-decoration-color: #00af00\">4</span>)              │           <span style=\"color: #00af00; text-decoration-color: #00af00\">260</span> │\n",
       "└─────────────────────────────────┴────────────────────────┴───────────────┘\n",
       "</pre>\n"
      ]
     },
     "metadata": {},
     "output_type": "display_data"
    },
    {
     "data": {
      "text/plain": [
       "\u001B[1m Total params: \u001B[0m\u001B[38;5;34m3,706,116\u001B[0m (14.14 MB)\n"
      ],
      "text/html": [
       "<pre style=\"white-space:pre;overflow-x:auto;line-height:normal;font-family:Menlo,'DejaVu Sans Mono',consolas,'Courier New',monospace\"><span style=\"font-weight: bold\"> Total params: </span><span style=\"color: #00af00; text-decoration-color: #00af00\">3,706,116</span> (14.14 MB)\n",
       "</pre>\n"
      ]
     },
     "metadata": {},
     "output_type": "display_data"
    },
    {
     "data": {
      "text/plain": [
       "\u001B[1m Trainable params: \u001B[0m\u001B[38;5;34m3,706,116\u001B[0m (14.14 MB)\n"
      ],
      "text/html": [
       "<pre style=\"white-space:pre;overflow-x:auto;line-height:normal;font-family:Menlo,'DejaVu Sans Mono',consolas,'Courier New',monospace\"><span style=\"font-weight: bold\"> Trainable params: </span><span style=\"color: #00af00; text-decoration-color: #00af00\">3,706,116</span> (14.14 MB)\n",
       "</pre>\n"
      ]
     },
     "metadata": {},
     "output_type": "display_data"
    },
    {
     "data": {
      "text/plain": [
       "\u001B[1m Non-trainable params: \u001B[0m\u001B[38;5;34m0\u001B[0m (0.00 B)\n"
      ],
      "text/html": [
       "<pre style=\"white-space:pre;overflow-x:auto;line-height:normal;font-family:Menlo,'DejaVu Sans Mono',consolas,'Courier New',monospace\"><span style=\"font-weight: bold\"> Non-trainable params: </span><span style=\"color: #00af00; text-decoration-color: #00af00\">0</span> (0.00 B)\n",
       "</pre>\n"
      ]
     },
     "metadata": {},
     "output_type": "display_data"
    }
   ],
   "execution_count": 56
  },
  {
   "metadata": {},
   "cell_type": "markdown",
   "source": "# Step 9: Train the Model on Training Data",
   "id": "dedef0b5516519d8"
  },
  {
   "metadata": {
    "ExecuteTime": {
     "end_time": "2024-12-13T06:04:58.462763Z",
     "start_time": "2024-12-13T06:04:49.779733Z"
    }
   },
   "cell_type": "code",
   "source": [
    "history = model.fit(\n",
    "    X_train,\n",
    "    y_train,\n",
    "    validation_data=(X_val, y_val),\n",
    "    epochs=10,\n",
    "    batch_size=16,\n",
    "    verbose=1\n",
    ")"
   ],
   "id": "bb83a86d13d0885e",
   "outputs": [
    {
     "name": "stdout",
     "output_type": "stream",
     "text": [
      "Epoch 1/10\n",
      "\u001B[1m5/5\u001B[0m \u001B[32m━━━━━━━━━━━━━━━━━━━━\u001B[0m\u001B[37m\u001B[0m \u001B[1m3s\u001B[0m 124ms/step - accuracy: 0.3863 - loss: 2.0775 - val_accuracy: 0.5500 - val_loss: 1.1313\n",
      "Epoch 2/10\n",
      "\u001B[1m5/5\u001B[0m \u001B[32m━━━━━━━━━━━━━━━━━━━━\u001B[0m\u001B[37m\u001B[0m \u001B[1m1s\u001B[0m 107ms/step - accuracy: 0.5403 - loss: 1.1723 - val_accuracy: 0.5500 - val_loss: 1.0059\n",
      "Epoch 3/10\n",
      "\u001B[1m5/5\u001B[0m \u001B[32m━━━━━━━━━━━━━━━━━━━━\u001B[0m\u001B[37m\u001B[0m \u001B[1m1s\u001B[0m 105ms/step - accuracy: 0.5585 - loss: 0.9549 - val_accuracy: 0.5500 - val_loss: 1.0288\n",
      "Epoch 4/10\n",
      "\u001B[1m5/5\u001B[0m \u001B[32m━━━━━━━━━━━━━━━━━━━━\u001B[0m\u001B[37m\u001B[0m \u001B[1m0s\u001B[0m 95ms/step - accuracy: 0.5663 - loss: 0.9652 - val_accuracy: 0.5500 - val_loss: 1.0295\n",
      "Epoch 5/10\n",
      "\u001B[1m5/5\u001B[0m \u001B[32m━━━━━━━━━━━━━━━━━━━━\u001B[0m\u001B[37m\u001B[0m \u001B[1m0s\u001B[0m 98ms/step - accuracy: 0.5998 - loss: 0.9076 - val_accuracy: 0.5500 - val_loss: 1.0703\n",
      "Epoch 6/10\n",
      "\u001B[1m5/5\u001B[0m \u001B[32m━━━━━━━━━━━━━━━━━━━━\u001B[0m\u001B[37m\u001B[0m \u001B[1m0s\u001B[0m 96ms/step - accuracy: 0.6715 - loss: 0.8290 - val_accuracy: 0.5500 - val_loss: 1.0486\n",
      "Epoch 7/10\n",
      "\u001B[1m5/5\u001B[0m \u001B[32m━━━━━━━━━━━━━━━━━━━━\u001B[0m\u001B[37m\u001B[0m \u001B[1m0s\u001B[0m 91ms/step - accuracy: 0.7023 - loss: 0.7977 - val_accuracy: 0.5500 - val_loss: 1.1393\n",
      "Epoch 8/10\n",
      "\u001B[1m5/5\u001B[0m \u001B[32m━━━━━━━━━━━━━━━━━━━━\u001B[0m\u001B[37m\u001B[0m \u001B[1m0s\u001B[0m 90ms/step - accuracy: 0.8125 - loss: 0.5578 - val_accuracy: 0.5500 - val_loss: 1.1356\n",
      "Epoch 9/10\n",
      "\u001B[1m5/5\u001B[0m \u001B[32m━━━━━━━━━━━━━━━━━━━━\u001B[0m\u001B[37m\u001B[0m \u001B[1m0s\u001B[0m 92ms/step - accuracy: 0.9312 - loss: 0.5017 - val_accuracy: 0.6000 - val_loss: 1.1825\n",
      "Epoch 10/10\n",
      "\u001B[1m5/5\u001B[0m \u001B[32m━━━━━━━━━━━━━━━━━━━━\u001B[0m\u001B[37m\u001B[0m \u001B[1m0s\u001B[0m 90ms/step - accuracy: 0.9674 - loss: 0.2729 - val_accuracy: 0.6000 - val_loss: 1.1851\n"
     ]
    }
   ],
   "execution_count": 57
  },
  {
   "metadata": {},
   "cell_type": "markdown",
   "source": "# Step 10: Evaluate the Model on Test Data",
   "id": "cc1e2ce66b9d95f2"
  },
  {
   "metadata": {
    "ExecuteTime": {
     "end_time": "2024-12-13T06:04:58.583321Z",
     "start_time": "2024-12-13T06:04:58.462763Z"
    }
   },
   "cell_type": "code",
   "source": [
    "test_loss, test_accuracy = model.evaluate(X_test_images, y_test_labels)\n",
    "print(f\"\\nTest Accuracy: {test_accuracy:.4f}\")"
   ],
   "id": "93c29d80d56b517a",
   "outputs": [
    {
     "name": "stdout",
     "output_type": "stream",
     "text": [
      "\u001B[1m2/2\u001B[0m \u001B[32m━━━━━━━━━━━━━━━━━━━━\u001B[0m\u001B[37m\u001B[0m \u001B[1m0s\u001B[0m 34ms/step - accuracy: 0.4896 - loss: 1.1056\n",
      "\n",
      "Test Accuracy: 0.5000\n"
     ]
    }
   ],
   "execution_count": 58
  },
  {
   "metadata": {},
   "cell_type": "markdown",
   "source": "# Step 11: Visualize Training History (Loss and Accuracy)",
   "id": "fd2c7c912668cdac"
  },
  {
   "metadata": {
    "ExecuteTime": {
     "end_time": "2024-12-13T06:04:58.817673Z",
     "start_time": "2024-12-13T06:04:58.583321Z"
    }
   },
   "cell_type": "code",
   "source": [
    "plt.figure(figsize=(12, 5))\n",
    "\n",
    "# Plot training/validation loss over epochs\n",
    "plt.subplot(1, 2, 1)\n",
    "plt.plot(history.history['loss'], label='Training Loss')\n",
    "plt.plot(history.history['val_loss'], label='Validation Loss')\n",
    "plt.title('Loss Over Epochs')\n",
    "plt.xlabel('Epochs')\n",
    "plt.ylabel('Loss')\n",
    "plt.legend()\n"
   ],
   "id": "52133f50a35f852f",
   "outputs": [
    {
     "data": {
      "text/plain": [
       "<matplotlib.legend.Legend at 0x1c4cc139310>"
      ]
     },
     "execution_count": 59,
     "metadata": {},
     "output_type": "execute_result"
    },
    {
     "data": {
      "text/plain": [
       "<Figure size 1200x500 with 1 Axes>"
      ],
      "image/png": "[encoded data removed]"
     },
     "metadata": {},
     "output_type": "display_data"
    }
   ],
   "execution_count": 59
  },
  {
   "metadata": {
    "ExecuteTime": {
     "end_time": "2024-12-13T06:04:58.939618Z",
     "start_time": "2024-12-13T06:04:58.817673Z"
    }
   },
   "cell_type": "code",
   "source": [
    "# Plot training/validation accuracy over epochs\n",
    "plt.subplot(1, 2, 2)\n",
    "plt.plot(history.history['accuracy'], label='Training Accuracy')\n",
    "plt.plot(history.history['val_accuracy'], label='Validation Accuracy')\n",
    "plt.title('Accuracy Over Epochs')\n",
    "plt.xlabel('Epochs')\n",
    "plt.ylabel('Accuracy')\n",
    "plt.legend()\n",
    "\n",
    "plt.show()"
   ],
   "id": "19d42488d8928ec4",
   "outputs": [
    {
     "data": {
      "text/plain": [
       "<Figure size 640x480 with 1 Axes>"
      ],
      "image/png": "[encoded data removed]"
     },
     "metadata": {},
     "output_type": "display_data"
    }
   ],
   "execution_count": 60
  },
  {
   "metadata": {
    "ExecuteTime": {
     "end_time": "2024-12-13T06:04:58.942406Z",
     "start_time": "2024-12-13T06:04:58.939618Z"
    }
   },
   "cell_type": "code",
   "source": "",
   "id": "24a8e977186d2a2d",
   "outputs": [],
   "execution_count": 60
  }
 ],
 "metadata": {
  "kernelspec": {
   "display_name": "Python 3",
   "language": "python",
   "name": "python3"
  },
  "language_info": {
   "codemirror_mode": {
    "name": "ipython",
    "version": 2
   },
   "file_extension": ".py",
   "mimetype": "text/x-python",
   "name": "python",
   "nbconvert_exporter": "python",
   "pygments_lexer": "ipython2",
   "version": "2.7.6"
  }
 },
 "nbformat": 4,
 "nbformat_minor": 5
}
